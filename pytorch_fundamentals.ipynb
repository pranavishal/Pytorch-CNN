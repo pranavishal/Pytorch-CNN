{
  "nbformat": 4,
  "nbformat_minor": 0,
  "metadata": {
    "colab": {
      "provenance": [],
      "machine_shape": "hm",
      "authorship_tag": "ABX9TyO4eiLLSdPL2iLQWwFnCjnV",
      "include_colab_link": true
    },
    "kernelspec": {
      "name": "python3",
      "display_name": "Python 3"
    },
    "language_info": {
      "name": "python"
    }
  },
  "cells": [
    {
      "cell_type": "markdown",
      "metadata": {
        "id": "view-in-github",
        "colab_type": "text"
      },
      "source": [
        "<a href=\"https://colab.research.google.com/github/pranavishal/Pytorch-CNN/blob/main/pytorch_fundamentals.ipynb\" target=\"_parent\"><img src=\"https://colab.research.google.com/assets/colab-badge.svg\" alt=\"Open In Colab\"/></a>"
      ]
    },
    {
      "cell_type": "code",
      "source": [
        "import torch\n",
        "print(torch.__version__)"
      ],
      "metadata": {
        "colab": {
          "base_uri": "https://localhost:8080/"
        },
        "id": "f71A_F-eRf4J",
        "outputId": "7b07bafb-9bda-4c58-bbee-4de26c8b7d4c"
      },
      "execution_count": 1,
      "outputs": [
        {
          "output_type": "stream",
          "name": "stdout",
          "text": [
            "2.4.1+cu121\n"
          ]
        }
      ]
    },
    {
      "cell_type": "code",
      "execution_count": 2,
      "metadata": {
        "id": "pJV_T2hiPuZK"
      },
      "outputs": [],
      "source": [
        "import pandas as pd\n",
        "import numpy as np\n",
        "import matplotlib.pyplot as plt\n"
      ]
    },
    {
      "cell_type": "code",
      "source": [
        "!nvidia-smi"
      ],
      "metadata": {
        "id": "WY1m7a75P32h",
        "colab": {
          "base_uri": "https://localhost:8080/"
        },
        "outputId": "dacac84b-226a-46fa-e27b-7fe79dbfa8c6"
      },
      "execution_count": 3,
      "outputs": [
        {
          "output_type": "stream",
          "name": "stdout",
          "text": [
            "/bin/bash: line 1: nvidia-smi: command not found\n"
          ]
        }
      ]
    },
    {
      "cell_type": "markdown",
      "source": [
        "## Introduction to Tensors\n",
        "\n",
        "## Creating Tensors\n"
      ],
      "metadata": {
        "id": "58PSkoQyQxjx"
      }
    },
    {
      "cell_type": "code",
      "source": [
        "# scalar, PyTorch tensors are created by torch.tensor(x)\n",
        "scalar = torch.tensor(7)\n",
        "scalar"
      ],
      "metadata": {
        "colab": {
          "base_uri": "https://localhost:8080/"
        },
        "id": "OSp4nMxYT-DK",
        "outputId": "34517d85-f513-4d73-9f5f-b583c0777317"
      },
      "execution_count": 4,
      "outputs": [
        {
          "output_type": "execute_result",
          "data": {
            "text/plain": [
              "tensor(7)"
            ]
          },
          "metadata": {},
          "execution_count": 4
        }
      ]
    },
    {
      "cell_type": "code",
      "source": [
        "scalar.ndim # number of dimensions"
      ],
      "metadata": {
        "colab": {
          "base_uri": "https://localhost:8080/"
        },
        "id": "QxR89353UDMw",
        "outputId": "0d584a1f-0639-4e61-a006-7c26bfe01224"
      },
      "execution_count": 5,
      "outputs": [
        {
          "output_type": "execute_result",
          "data": {
            "text/plain": [
              "0"
            ]
          },
          "metadata": {},
          "execution_count": 5
        }
      ]
    },
    {
      "cell_type": "code",
      "source": [
        "scalar.item() # get tensor back as a python int"
      ],
      "metadata": {
        "colab": {
          "base_uri": "https://localhost:8080/"
        },
        "id": "vARd5blVUpvh",
        "outputId": "96d91d7d-13fd-4f33-e11b-b9b9d6521d9c"
      },
      "execution_count": 6,
      "outputs": [
        {
          "output_type": "execute_result",
          "data": {
            "text/plain": [
              "7"
            ]
          },
          "metadata": {},
          "execution_count": 6
        }
      ]
    },
    {
      "cell_type": "code",
      "source": [
        "# vector"
      ],
      "metadata": {
        "id": "7kKr-pK_U7gZ"
      },
      "execution_count": 7,
      "outputs": []
    },
    {
      "cell_type": "code",
      "source": [
        "vector = torch.tensor([7, 7])\n",
        "vector.ndim\n",
        "vector.shape\n"
      ],
      "metadata": {
        "colab": {
          "base_uri": "https://localhost:8080/"
        },
        "id": "GhGpYi2nU_jI",
        "outputId": "d8ef7c04-ead0-4ace-ae58-a65bf6811768"
      },
      "execution_count": 8,
      "outputs": [
        {
          "output_type": "execute_result",
          "data": {
            "text/plain": [
              "torch.Size([2])"
            ]
          },
          "metadata": {},
          "execution_count": 8
        }
      ]
    },
    {
      "cell_type": "code",
      "source": [
        "vector.ndim"
      ],
      "metadata": {
        "colab": {
          "base_uri": "https://localhost:8080/"
        },
        "id": "0sufJwtzVRwJ",
        "outputId": "3709ef77-e3a3-4849-b361-f0b2a89d5267"
      },
      "execution_count": 9,
      "outputs": [
        {
          "output_type": "execute_result",
          "data": {
            "text/plain": [
              "1"
            ]
          },
          "metadata": {},
          "execution_count": 9
        }
      ]
    },
    {
      "cell_type": "code",
      "source": [
        "MATRIX = torch.tensor([[7, 8], [9, 10]])\n",
        "MATRIX.ndim"
      ],
      "metadata": {
        "colab": {
          "base_uri": "https://localhost:8080/"
        },
        "id": "tyehGzbqVWIw",
        "outputId": "5c537817-c301-43ad-a05b-9dcd8ca5aca0"
      },
      "execution_count": 10,
      "outputs": [
        {
          "output_type": "execute_result",
          "data": {
            "text/plain": [
              "2"
            ]
          },
          "metadata": {},
          "execution_count": 10
        }
      ]
    },
    {
      "cell_type": "code",
      "source": [
        "MATRIX.shape"
      ],
      "metadata": {
        "colab": {
          "base_uri": "https://localhost:8080/"
        },
        "id": "jziRM0NqVlBQ",
        "outputId": "d4c7e36b-7af5-4712-9221-a4c6607f3750"
      },
      "execution_count": 11,
      "outputs": [
        {
          "output_type": "execute_result",
          "data": {
            "text/plain": [
              "torch.Size([2, 2])"
            ]
          },
          "metadata": {},
          "execution_count": 11
        }
      ]
    },
    {
      "cell_type": "code",
      "source": [
        "MATRIX[0]"
      ],
      "metadata": {
        "colab": {
          "base_uri": "https://localhost:8080/"
        },
        "id": "Kp3qJtajVmEA",
        "outputId": "21ec57f8-f51b-4955-ea1e-f17d5a6e970e"
      },
      "execution_count": 12,
      "outputs": [
        {
          "output_type": "execute_result",
          "data": {
            "text/plain": [
              "tensor([7, 8])"
            ]
          },
          "metadata": {},
          "execution_count": 12
        }
      ]
    },
    {
      "cell_type": "code",
      "source": [
        "MATRIX[1]"
      ],
      "metadata": {
        "colab": {
          "base_uri": "https://localhost:8080/"
        },
        "id": "UDy7MeLLVsNv",
        "outputId": "4bc69c8b-d1eb-4f93-ac3a-04aab061445a"
      },
      "execution_count": 13,
      "outputs": [
        {
          "output_type": "execute_result",
          "data": {
            "text/plain": [
              "tensor([ 9, 10])"
            ]
          },
          "metadata": {},
          "execution_count": 13
        }
      ]
    },
    {
      "cell_type": "code",
      "source": [
        "##TENSOR\n",
        "\n",
        "TENSOR = torch.tensor([[[1, 2, 3],\n",
        "                        [3, 6, 9],\n",
        "                        [2, 4, 6]]])\n",
        "\n",
        "TENSOR.shape"
      ],
      "metadata": {
        "colab": {
          "base_uri": "https://localhost:8080/"
        },
        "id": "lfo1AfuyVtZ3",
        "outputId": "8cea6f0c-bc40-40b6-bbf4-5b4026caf1e9"
      },
      "execution_count": 14,
      "outputs": [
        {
          "output_type": "execute_result",
          "data": {
            "text/plain": [
              "torch.Size([1, 3, 3])"
            ]
          },
          "metadata": {},
          "execution_count": 14
        }
      ]
    },
    {
      "cell_type": "code",
      "source": [
        "TENSOR[0]"
      ],
      "metadata": {
        "colab": {
          "base_uri": "https://localhost:8080/"
        },
        "id": "yqJB-b31WHOx",
        "outputId": "a1f96907-3650-45af-e368-5e301cc33c50"
      },
      "execution_count": 15,
      "outputs": [
        {
          "output_type": "execute_result",
          "data": {
            "text/plain": [
              "tensor([[1, 2, 3],\n",
              "        [3, 6, 9],\n",
              "        [2, 4, 6]])"
            ]
          },
          "metadata": {},
          "execution_count": 15
        }
      ]
    },
    {
      "cell_type": "code",
      "source": [
        "TENSOR[0].shape"
      ],
      "metadata": {
        "colab": {
          "base_uri": "https://localhost:8080/"
        },
        "id": "e6LGIz_XWQYI",
        "outputId": "8f51cb68-398c-4706-e437-584a3e1b9e14"
      },
      "execution_count": 16,
      "outputs": [
        {
          "output_type": "execute_result",
          "data": {
            "text/plain": [
              "torch.Size([3, 3])"
            ]
          },
          "metadata": {},
          "execution_count": 16
        }
      ]
    },
    {
      "cell_type": "code",
      "source": [
        "TENSOR.ndim"
      ],
      "metadata": {
        "colab": {
          "base_uri": "https://localhost:8080/"
        },
        "id": "1XTPxHERWUW4",
        "outputId": "4f0aab35-2e7b-4f50-a6f1-e94508c719c9"
      },
      "execution_count": 17,
      "outputs": [
        {
          "output_type": "execute_result",
          "data": {
            "text/plain": [
              "3"
            ]
          },
          "metadata": {},
          "execution_count": 17
        }
      ]
    },
    {
      "cell_type": "code",
      "source": [
        "TENSOR2 = torch.tensor([[[1, 2, 3],\n",
        "                        [3, 6, 9],\n",
        "                        [2, 4, 6]],\n",
        "                        [[1, 2, 3],\n",
        "                        [3, 6, 9],\n",
        "                        [2, 4, 6]]])"
      ],
      "metadata": {
        "id": "U9PrFwqwWgZ4"
      },
      "execution_count": 18,
      "outputs": []
    },
    {
      "cell_type": "code",
      "source": [
        "TENSOR2.shape"
      ],
      "metadata": {
        "colab": {
          "base_uri": "https://localhost:8080/"
        },
        "id": "ny6sG7ZSW0c4",
        "outputId": "991d89b5-7b61-4a24-c064-1fdd1847371f"
      },
      "execution_count": 19,
      "outputs": [
        {
          "output_type": "execute_result",
          "data": {
            "text/plain": [
              "torch.Size([2, 3, 3])"
            ]
          },
          "metadata": {},
          "execution_count": 19
        }
      ]
    },
    {
      "cell_type": "markdown",
      "source": [
        "\n",
        "\n",
        "```\n",
        "# This is formatted as code\n",
        "```\n",
        "\n",
        "### Random Tensors\n",
        "\n",
        "Why Random tensors\n",
        "\n",
        "random tensors are important because the way many neural networks learn is that they start with tensors full of randm numbers and then adjust those random numbers to better represent the data\n",
        "\n",
        "start with random numbers -> look at data -> update random numbers -> look at data -> update random numbers\n"
      ],
      "metadata": {
        "id": "Ai8E3do1YN_Z"
      }
    },
    {
      "cell_type": "code",
      "source": [
        "# Create a random tensor of shape(3, 4)\n",
        "\n",
        "random_tensor = torch.rand(2, 3, 4)\n",
        "random_tensor"
      ],
      "metadata": {
        "colab": {
          "base_uri": "https://localhost:8080/"
        },
        "id": "IKj9UVnXwNA8",
        "outputId": "b066513e-0b2c-4af2-ac6a-01556159ab94"
      },
      "execution_count": 20,
      "outputs": [
        {
          "output_type": "execute_result",
          "data": {
            "text/plain": [
              "tensor([[[0.1746, 0.4989, 0.4050, 0.6595],\n",
              "         [0.3648, 0.3144, 0.4000, 0.0255],\n",
              "         [0.6954, 0.5950, 0.0601, 0.4598]],\n",
              "\n",
              "        [[0.0544, 0.9164, 0.5170, 0.7750],\n",
              "         [0.2712, 0.9869, 0.4474, 0.5324],\n",
              "         [0.3992, 0.7051, 0.6209, 0.3015]]])"
            ]
          },
          "metadata": {},
          "execution_count": 20
        }
      ]
    },
    {
      "cell_type": "code",
      "source": [
        "random_tensor.ndim"
      ],
      "metadata": {
        "colab": {
          "base_uri": "https://localhost:8080/"
        },
        "id": "d_y3eMUvwlK1",
        "outputId": "7fda93f5-7e10-4797-fa0d-f449b2253612"
      },
      "execution_count": 21,
      "outputs": [
        {
          "output_type": "execute_result",
          "data": {
            "text/plain": [
              "3"
            ]
          },
          "metadata": {},
          "execution_count": 21
        }
      ]
    },
    {
      "cell_type": "code",
      "source": [
        "random_tensor.shape"
      ],
      "metadata": {
        "colab": {
          "base_uri": "https://localhost:8080/"
        },
        "id": "s7k_7feNw-t-",
        "outputId": "d8e4b86c-b601-44af-914f-565ca970b753"
      },
      "execution_count": 22,
      "outputs": [
        {
          "output_type": "execute_result",
          "data": {
            "text/plain": [
              "torch.Size([2, 3, 4])"
            ]
          },
          "metadata": {},
          "execution_count": 22
        }
      ]
    },
    {
      "cell_type": "code",
      "source": [
        "#Create a random tensor with similar shape ot an image tensor\n",
        "random_image_size_tensor = torch.rand(size=(224,224,3)) # height, width, color channels\n",
        "random_image_size_tensor.shape, random_image_size_tensor.ndim\n"
      ],
      "metadata": {
        "colab": {
          "base_uri": "https://localhost:8080/"
        },
        "id": "Q968une2xPht",
        "outputId": "f20d8523-c9cd-4dd4-b2af-67682dc9ed82"
      },
      "execution_count": 23,
      "outputs": [
        {
          "output_type": "execute_result",
          "data": {
            "text/plain": [
              "(torch.Size([224, 224, 3]), 3)"
            ]
          },
          "metadata": {},
          "execution_count": 23
        }
      ]
    },
    {
      "cell_type": "code",
      "source": [
        "### Zeros and ones"
      ],
      "metadata": {
        "id": "TvGJoBNQxlP2"
      },
      "execution_count": 24,
      "outputs": []
    },
    {
      "cell_type": "code",
      "source": [
        "# Create a tensor of all zeros\n",
        "zero = torch.zeros(3, 4)\n",
        "zero"
      ],
      "metadata": {
        "colab": {
          "base_uri": "https://localhost:8080/"
        },
        "id": "DcEsm0sjyTau",
        "outputId": "2d849cbb-c28b-4fb4-877a-3ada125ec345"
      },
      "execution_count": 25,
      "outputs": [
        {
          "output_type": "execute_result",
          "data": {
            "text/plain": [
              "tensor([[0., 0., 0., 0.],\n",
              "        [0., 0., 0., 0.],\n",
              "        [0., 0., 0., 0.]])"
            ]
          },
          "metadata": {},
          "execution_count": 25
        }
      ]
    },
    {
      "cell_type": "code",
      "source": [
        "zero * random_tensor"
      ],
      "metadata": {
        "colab": {
          "base_uri": "https://localhost:8080/"
        },
        "id": "M5cIi_gmyaZ0",
        "outputId": "def932e5-76d9-4436-ca0a-d24a41347172"
      },
      "execution_count": 26,
      "outputs": [
        {
          "output_type": "execute_result",
          "data": {
            "text/plain": [
              "tensor([[[0., 0., 0., 0.],\n",
              "         [0., 0., 0., 0.],\n",
              "         [0., 0., 0., 0.]],\n",
              "\n",
              "        [[0., 0., 0., 0.],\n",
              "         [0., 0., 0., 0.],\n",
              "         [0., 0., 0., 0.]]])"
            ]
          },
          "metadata": {},
          "execution_count": 26
        }
      ]
    },
    {
      "cell_type": "code",
      "source": [
        "#all ones tensor\n",
        "\n",
        "ones = torch.ones(3, 4)\n",
        "ones"
      ],
      "metadata": {
        "colab": {
          "base_uri": "https://localhost:8080/"
        },
        "id": "ZaE6Q5yVzBoW",
        "outputId": "a9e8fe6e-a716-46fe-b087-179da8d73d44"
      },
      "execution_count": 27,
      "outputs": [
        {
          "output_type": "execute_result",
          "data": {
            "text/plain": [
              "tensor([[1., 1., 1., 1.],\n",
              "        [1., 1., 1., 1.],\n",
              "        [1., 1., 1., 1.]])"
            ]
          },
          "metadata": {},
          "execution_count": 27
        }
      ]
    },
    {
      "cell_type": "code",
      "source": [
        "ones.dtype"
      ],
      "metadata": {
        "colab": {
          "base_uri": "https://localhost:8080/"
        },
        "id": "OWtqHDgnzGk8",
        "outputId": "3fc92276-1866-47f4-a803-52f1021ed267"
      },
      "execution_count": 28,
      "outputs": [
        {
          "output_type": "execute_result",
          "data": {
            "text/plain": [
              "torch.float32"
            ]
          },
          "metadata": {},
          "execution_count": 28
        }
      ]
    },
    {
      "cell_type": "code",
      "source": [
        "random_tensor.dtype"
      ],
      "metadata": {
        "colab": {
          "base_uri": "https://localhost:8080/"
        },
        "id": "I50-IA8ezHrV",
        "outputId": "f9a617f5-a5a7-4b21-962c-742ab7b941cb"
      },
      "execution_count": 29,
      "outputs": [
        {
          "output_type": "execute_result",
          "data": {
            "text/plain": [
              "torch.float32"
            ]
          },
          "metadata": {},
          "execution_count": 29
        }
      ]
    },
    {
      "cell_type": "code",
      "source": [
        "# create a rang of tensors and tensors-like\n",
        "\n",
        "#use torch.range()\n",
        "one_to_ten = torch.arange(0, 10)\n",
        "one_to_1000 = torch.arange(start=1, end=1000, step=92)"
      ],
      "metadata": {
        "id": "0-fWHzRyzKd9"
      },
      "execution_count": 30,
      "outputs": []
    },
    {
      "cell_type": "code",
      "source": [
        "one_to_1000"
      ],
      "metadata": {
        "colab": {
          "base_uri": "https://localhost:8080/"
        },
        "id": "_24Dm7dCAnoG",
        "outputId": "17abedf2-471a-449b-b3dd-89c4f935310b"
      },
      "execution_count": 31,
      "outputs": [
        {
          "output_type": "execute_result",
          "data": {
            "text/plain": [
              "tensor([  1,  93, 185, 277, 369, 461, 553, 645, 737, 829, 921])"
            ]
          },
          "metadata": {},
          "execution_count": 31
        }
      ]
    },
    {
      "cell_type": "code",
      "source": [
        "#tensors like\n",
        "ten_zeros = torch.zeros_like(input=one_to_1000)\n",
        "ten_zeros"
      ],
      "metadata": {
        "colab": {
          "base_uri": "https://localhost:8080/"
        },
        "id": "6TE3nvsGA7W8",
        "outputId": "2e3f66ef-d141-489e-a225-c30592a8d3fd"
      },
      "execution_count": 32,
      "outputs": [
        {
          "output_type": "execute_result",
          "data": {
            "text/plain": [
              "tensor([0, 0, 0, 0, 0, 0, 0, 0, 0, 0, 0])"
            ]
          },
          "metadata": {},
          "execution_count": 32
        }
      ]
    },
    {
      "cell_type": "code",
      "source": [
        "flt_tensor = torch.tensor([3.0, 6.0, 9.0], dtype=torch.float32, device=None, requires_grad=False)\n",
        "#dtype what data type is the tensor made of\n",
        "#device what device is your tensor on\n",
        "#whether or not tot rack gradients with this tensors operations\n",
        "flt_tensor"
      ],
      "metadata": {
        "colab": {
          "base_uri": "https://localhost:8080/"
        },
        "id": "55tAvUt-BKSO",
        "outputId": "e76dfed0-bbfd-409a-b556-80f7c9ddded0"
      },
      "execution_count": 33,
      "outputs": [
        {
          "output_type": "execute_result",
          "data": {
            "text/plain": [
              "tensor([3., 6., 9.])"
            ]
          },
          "metadata": {},
          "execution_count": 33
        }
      ]
    },
    {
      "cell_type": "code",
      "source": [
        "flt_tensor.dtype"
      ],
      "metadata": {
        "colab": {
          "base_uri": "https://localhost:8080/"
        },
        "id": "1ncjJwB9CTRG",
        "outputId": "deaf4558-7da6-4f6b-f441-984054a61237"
      },
      "execution_count": 34,
      "outputs": [
        {
          "output_type": "execute_result",
          "data": {
            "text/plain": [
              "torch.float32"
            ]
          },
          "metadata": {},
          "execution_count": 34
        }
      ]
    },
    {
      "cell_type": "code",
      "source": [
        "#Tensor Datatypes\n",
        "#tensor datatypes is one of the 3 big errors you'll run into with pytorch and deep learning\n",
        "#1. Tensors not right datatype\n",
        "#2. Tensors not right shape\n",
        "#3. Tensors not on the right device"
      ],
      "metadata": {
        "id": "0595U69ICNEO"
      },
      "execution_count": 35,
      "outputs": []
    },
    {
      "cell_type": "code",
      "source": [
        "float_16_tensor = flt_tensor.type(torch.float16)\n",
        "float_16_tensor"
      ],
      "metadata": {
        "colab": {
          "base_uri": "https://localhost:8080/"
        },
        "id": "Q16W2sTyFNv9",
        "outputId": "1266c4f4-fa97-4dd0-96a4-c9814c6b990f"
      },
      "execution_count": 36,
      "outputs": [
        {
          "output_type": "execute_result",
          "data": {
            "text/plain": [
              "tensor([3., 6., 9.], dtype=torch.float16)"
            ]
          },
          "metadata": {},
          "execution_count": 36
        }
      ]
    },
    {
      "cell_type": "code",
      "source": [
        "int_32_tensor = torch.tensor([3, 6, 9], dtype=torch.int32)\n",
        "int_32_tensor"
      ],
      "metadata": {
        "colab": {
          "base_uri": "https://localhost:8080/"
        },
        "id": "fMOyzPVpFi9O",
        "outputId": "5f167bc1-6007-41fb-ac52-abda210f02f9"
      },
      "execution_count": 37,
      "outputs": [
        {
          "output_type": "execute_result",
          "data": {
            "text/plain": [
              "tensor([3, 6, 9], dtype=torch.int32)"
            ]
          },
          "metadata": {},
          "execution_count": 37
        }
      ]
    },
    {
      "cell_type": "code",
      "source": [
        "int_32_tensor * flt_tensor"
      ],
      "metadata": {
        "colab": {
          "base_uri": "https://localhost:8080/"
        },
        "id": "Bapr-hsvGBM1",
        "outputId": "1014196e-435c-4ba1-a19e-06c1987660b0"
      },
      "execution_count": 38,
      "outputs": [
        {
          "output_type": "execute_result",
          "data": {
            "text/plain": [
              "tensor([ 9., 36., 81.])"
            ]
          },
          "metadata": {},
          "execution_count": 38
        }
      ]
    },
    {
      "cell_type": "code",
      "source": [
        "flt_tensor"
      ],
      "metadata": {
        "colab": {
          "base_uri": "https://localhost:8080/"
        },
        "id": "ulNFZAmqGC2l",
        "outputId": "2910de2c-fcc9-4efa-a1ae-d5215ba96e93"
      },
      "execution_count": 39,
      "outputs": [
        {
          "output_type": "execute_result",
          "data": {
            "text/plain": [
              "tensor([3., 6., 9.])"
            ]
          },
          "metadata": {},
          "execution_count": 39
        }
      ]
    },
    {
      "cell_type": "markdown",
      "source": [
        "### Getting information from tensors (Tensor Attributes)\n",
        "\n",
        "1. Tensors not right datatype - to get datatype from a tensor, can use tensor.dtype\n",
        "2. Tensors not right shape - to get shape from a tensor, can use tensor.shape\n",
        "3. Tensors not on the right device - to get device from a tensor, can use tensor.device"
      ],
      "metadata": {
        "id": "6PdUCEdeGYXP"
      }
    },
    {
      "cell_type": "code",
      "source": [
        "flt_tensor.shape, flt_tensor.dtype, flt_tensor.device"
      ],
      "metadata": {
        "colab": {
          "base_uri": "https://localhost:8080/"
        },
        "id": "i2N4F3l5Go-H",
        "outputId": "b3a1e974-1263-4536-8476-6584a1633f64"
      },
      "execution_count": 40,
      "outputs": [
        {
          "output_type": "execute_result",
          "data": {
            "text/plain": [
              "(torch.Size([3]), torch.float32, device(type='cpu'))"
            ]
          },
          "metadata": {},
          "execution_count": 40
        }
      ]
    },
    {
      "cell_type": "code",
      "source": [
        "rand_tens = torch.rand(3, 4)\n",
        "rand_tens.shape, rand_tens.dtype, rand_tens.device"
      ],
      "metadata": {
        "colab": {
          "base_uri": "https://localhost:8080/"
        },
        "id": "A4QlqbD9G751",
        "outputId": "88a7d276-a15d-4dc0-9498-c16847b1a19e"
      },
      "execution_count": 41,
      "outputs": [
        {
          "output_type": "execute_result",
          "data": {
            "text/plain": [
              "(torch.Size([3, 4]), torch.float32, device(type='cpu'))"
            ]
          },
          "metadata": {},
          "execution_count": 41
        }
      ]
    },
    {
      "cell_type": "markdown",
      "source": [
        "### Manipulating Tensors (tensor operations)\n",
        "\n",
        "Tensor operations include:\n",
        "* Addition\n",
        "* Subtraction\n",
        "* Multiplication (element-wise)\n",
        "* Division\n",
        "* Matrix multiplication"
      ],
      "metadata": {
        "id": "NSDuu4fuHBqu"
      }
    },
    {
      "cell_type": "code",
      "source": [
        "# Create a tensor and add 10 to it\n",
        "tensor = torch.tensor([1, 2, 3])\n",
        "tensor + 10"
      ],
      "metadata": {
        "colab": {
          "base_uri": "https://localhost:8080/"
        },
        "id": "tvhRXY01Koko",
        "outputId": "cbcbda47-598e-47da-f14d-46ab810be9fa"
      },
      "execution_count": 42,
      "outputs": [
        {
          "output_type": "execute_result",
          "data": {
            "text/plain": [
              "tensor([11, 12, 13])"
            ]
          },
          "metadata": {},
          "execution_count": 42
        }
      ]
    },
    {
      "cell_type": "code",
      "source": [
        "#multipy a tensor by 10\n",
        "tensor * 10"
      ],
      "metadata": {
        "colab": {
          "base_uri": "https://localhost:8080/"
        },
        "id": "H97OGhtoK10u",
        "outputId": "911db174-cedb-4c59-e539-ccb651a400af"
      },
      "execution_count": 43,
      "outputs": [
        {
          "output_type": "execute_result",
          "data": {
            "text/plain": [
              "tensor([10, 20, 30])"
            ]
          },
          "metadata": {},
          "execution_count": 43
        }
      ]
    },
    {
      "cell_type": "code",
      "source": [
        "tensor - 10"
      ],
      "metadata": {
        "colab": {
          "base_uri": "https://localhost:8080/"
        },
        "id": "2TZwBjmuK-qF",
        "outputId": "952bd133-19e3-44ef-87e9-ec91d550f0c8"
      },
      "execution_count": 44,
      "outputs": [
        {
          "output_type": "execute_result",
          "data": {
            "text/plain": [
              "tensor([-9, -8, -7])"
            ]
          },
          "metadata": {},
          "execution_count": 44
        }
      ]
    },
    {
      "cell_type": "code",
      "source": [
        "#PyTorch In Built Functions\n",
        "torch.mul(tensor, 10)"
      ],
      "metadata": {
        "colab": {
          "base_uri": "https://localhost:8080/"
        },
        "id": "Bi_0gDfcLJDu",
        "outputId": "a6e7c2d5-69f7-42c6-83f5-0a28707f7c91"
      },
      "execution_count": 45,
      "outputs": [
        {
          "output_type": "execute_result",
          "data": {
            "text/plain": [
              "tensor([10, 20, 30])"
            ]
          },
          "metadata": {},
          "execution_count": 45
        }
      ]
    },
    {
      "cell_type": "code",
      "source": [
        "torch.add(tensor, 10)"
      ],
      "metadata": {
        "colab": {
          "base_uri": "https://localhost:8080/"
        },
        "id": "ALRHMM0ALQT1",
        "outputId": "c7fdc64d-1785-4b22-fa21-adbf167f379d"
      },
      "execution_count": 46,
      "outputs": [
        {
          "output_type": "execute_result",
          "data": {
            "text/plain": [
              "tensor([11, 12, 13])"
            ]
          },
          "metadata": {},
          "execution_count": 46
        }
      ]
    },
    {
      "cell_type": "code",
      "source": [
        "#Matrix Multiplication"
      ],
      "metadata": {
        "id": "Udgx4VrGLXh2"
      },
      "execution_count": 47,
      "outputs": []
    },
    {
      "cell_type": "code",
      "source": [
        "tensor = torch.tensor([1, 2, 3])\n",
        "tensor"
      ],
      "metadata": {
        "colab": {
          "base_uri": "https://localhost:8080/"
        },
        "id": "FpkLBLFK79fZ",
        "outputId": "3637bc87-6a2d-42f0-faf9-0140544cb76a"
      },
      "execution_count": 48,
      "outputs": [
        {
          "output_type": "execute_result",
          "data": {
            "text/plain": [
              "tensor([1, 2, 3])"
            ]
          },
          "metadata": {},
          "execution_count": 48
        }
      ]
    },
    {
      "cell_type": "code",
      "source": [
        "#Element wise multiplication\n",
        "tensor * tensor"
      ],
      "metadata": {
        "colab": {
          "base_uri": "https://localhost:8080/"
        },
        "id": "92gyFH2W7-Ov",
        "outputId": "98eee5ff-fca4-480b-824c-57a805ec96a3"
      },
      "execution_count": 49,
      "outputs": [
        {
          "output_type": "execute_result",
          "data": {
            "text/plain": [
              "tensor([1, 4, 9])"
            ]
          },
          "metadata": {},
          "execution_count": 49
        }
      ]
    },
    {
      "cell_type": "code",
      "source": [
        "torch.matmul(tensor, tensor)"
      ],
      "metadata": {
        "colab": {
          "base_uri": "https://localhost:8080/"
        },
        "id": "nuULnup18K5X",
        "outputId": "8c350f71-326e-4985-d322-ed82cd1bead1"
      },
      "execution_count": 50,
      "outputs": [
        {
          "output_type": "execute_result",
          "data": {
            "text/plain": [
              "tensor(14)"
            ]
          },
          "metadata": {},
          "execution_count": 50
        }
      ]
    },
    {
      "cell_type": "code",
      "source": [
        "%%time\n",
        "value = 0\n",
        "for i in range(len(tensor)):\n",
        "  value += tensor[i] * tensor[i]\n",
        "print(value)"
      ],
      "metadata": {
        "colab": {
          "base_uri": "https://localhost:8080/"
        },
        "id": "UjPlpgBCEQr-",
        "outputId": "943c57ed-7aa2-47db-843c-d3e0ab911794"
      },
      "execution_count": 51,
      "outputs": [
        {
          "output_type": "stream",
          "name": "stdout",
          "text": [
            "tensor(14)\n",
            "CPU times: user 2.08 ms, sys: 17 µs, total: 2.1 ms\n",
            "Wall time: 1.78 ms\n"
          ]
        }
      ]
    },
    {
      "cell_type": "code",
      "source": [
        "%%time\n",
        "torch.matmul(tensor, tensor)"
      ],
      "metadata": {
        "colab": {
          "base_uri": "https://localhost:8080/"
        },
        "id": "uT6RXeXWEp12",
        "outputId": "55303dae-dc88-4faf-f96b-093560bb0eb9"
      },
      "execution_count": 52,
      "outputs": [
        {
          "output_type": "stream",
          "name": "stdout",
          "text": [
            "CPU times: user 118 µs, sys: 0 ns, total: 118 µs\n",
            "Wall time: 556 µs\n"
          ]
        },
        {
          "output_type": "execute_result",
          "data": {
            "text/plain": [
              "tensor(14)"
            ]
          },
          "metadata": {},
          "execution_count": 52
        }
      ]
    },
    {
      "cell_type": "code",
      "source": [
        "## Common errors in deep learning -> shape errors when matrix multiplication\n",
        "# 2 rules"
      ],
      "metadata": {
        "id": "CMWJMomhEv4P"
      },
      "execution_count": 53,
      "outputs": []
    },
    {
      "cell_type": "code",
      "source": [
        "tensor @ tensor # @ is the same as matmul\n"
      ],
      "metadata": {
        "colab": {
          "base_uri": "https://localhost:8080/"
        },
        "id": "TRc3Nu0MF0oS",
        "outputId": "764cf925-54ec-4117-e4b5-ea1b333b8e77"
      },
      "execution_count": 54,
      "outputs": [
        {
          "output_type": "execute_result",
          "data": {
            "text/plain": [
              "tensor(14)"
            ]
          },
          "metadata": {},
          "execution_count": 54
        }
      ]
    },
    {
      "cell_type": "code",
      "source": [
        "#Shape rules (inner dimensions must match)\n",
        "# (3, 2) (2, 3) works because 2 is the inner dimension of both matrices\n",
        "\n",
        "torch.rand(3, 2).shape"
      ],
      "metadata": {
        "colab": {
          "base_uri": "https://localhost:8080/"
        },
        "id": "88CfmEUcF5PA",
        "outputId": "13da8b4d-473a-4458-aecd-6cfdfa2448a2"
      },
      "execution_count": 55,
      "outputs": [
        {
          "output_type": "execute_result",
          "data": {
            "text/plain": [
              "torch.Size([3, 2])"
            ]
          },
          "metadata": {},
          "execution_count": 55
        }
      ]
    },
    {
      "cell_type": "code",
      "source": [
        "torch.rand(3, 2)"
      ],
      "metadata": {
        "colab": {
          "base_uri": "https://localhost:8080/"
        },
        "id": "D4zoCV5oGSgA",
        "outputId": "cae78282-eed0-4f8b-a1df-0f05cc48e634"
      },
      "execution_count": 56,
      "outputs": [
        {
          "output_type": "execute_result",
          "data": {
            "text/plain": [
              "tensor([[0.4127, 0.3809],\n",
              "        [0.8708, 0.1658],\n",
              "        [0.2603, 0.8910]])"
            ]
          },
          "metadata": {},
          "execution_count": 56
        }
      ]
    },
    {
      "cell_type": "code",
      "source": [
        "torch.rand(2, 3) @ torch.rand(3, 2)"
      ],
      "metadata": {
        "colab": {
          "base_uri": "https://localhost:8080/"
        },
        "id": "0QR5XJyfGUbo",
        "outputId": "16d6c7fe-80c8-4849-8e6a-11a92b2fe6fc"
      },
      "execution_count": 57,
      "outputs": [
        {
          "output_type": "execute_result",
          "data": {
            "text/plain": [
              "tensor([[1.1893, 0.6562],\n",
              "        [0.8143, 0.9019]])"
            ]
          },
          "metadata": {},
          "execution_count": 57
        }
      ]
    },
    {
      "cell_type": "code",
      "source": [
        "#This wont work torch.rand(2, 3) @ torch.rand(2, 3)"
      ],
      "metadata": {
        "id": "NW-VRO-lGXnI"
      },
      "execution_count": 58,
      "outputs": []
    },
    {
      "cell_type": "code",
      "source": [
        " # rule 2, the resulting matrix has the shape of the outer dimensions\n",
        " # (3, 2) * (2, 3) will have 3x3 matrix as a result\n",
        "torch.matmul(torch.rand(3, 2), torch.rand(2, 4))"
      ],
      "metadata": {
        "colab": {
          "base_uri": "https://localhost:8080/"
        },
        "id": "Zxz_DZoTGfrH",
        "outputId": "c0751b10-da8d-4534-f20b-12cea334757d"
      },
      "execution_count": 59,
      "outputs": [
        {
          "output_type": "execute_result",
          "data": {
            "text/plain": [
              "tensor([[0.4364, 0.3474, 0.0344, 0.4271],\n",
              "        [0.4278, 0.4539, 0.1302, 0.5172],\n",
              "        [0.5289, 0.5534, 0.1542, 0.6327]])"
            ]
          },
          "metadata": {},
          "execution_count": 59
        }
      ]
    },
    {
      "cell_type": "code",
      "source": [
        "torch.matmul(torch.rand(3, 11), torch.rand(11, 4))"
      ],
      "metadata": {
        "colab": {
          "base_uri": "https://localhost:8080/"
        },
        "id": "QYWDv6-zHAM2",
        "outputId": "4d82bf3a-0735-42bf-be22-6cba682b75e8"
      },
      "execution_count": 60,
      "outputs": [
        {
          "output_type": "execute_result",
          "data": {
            "text/plain": [
              "tensor([[2.0395, 2.2783, 2.3167, 2.6703],\n",
              "        [2.9803, 3.0325, 3.3593, 3.1758],\n",
              "        [2.8079, 2.4988, 2.3979, 2.9226]])"
            ]
          },
          "metadata": {},
          "execution_count": 60
        }
      ]
    },
    {
      "cell_type": "code",
      "source": [
        "# Shapes for matrix multiplication\n",
        "tensor_A = torch.tensor([[1, 2],\n",
        "                         [3, 4],\n",
        "                         [5, 6]])\n",
        "\n",
        "tensor_B = torch.tensor([[7, 10],\n",
        "                         [8, 11],\n",
        "                         [9, 12]])\n",
        "\n",
        "tensor_A.shape, tensor_B.shape"
      ],
      "metadata": {
        "colab": {
          "base_uri": "https://localhost:8080/"
        },
        "id": "saWbqgXQHYLO",
        "outputId": "bf501f9f-60c7-4178-e0e2-60a39b0e38a1"
      },
      "execution_count": 61,
      "outputs": [
        {
          "output_type": "execute_result",
          "data": {
            "text/plain": [
              "(torch.Size([3, 2]), torch.Size([3, 2]))"
            ]
          },
          "metadata": {},
          "execution_count": 61
        }
      ]
    },
    {
      "cell_type": "code",
      "source": [
        "# torch.mm is short for torch.matmul\n",
        "# matrix multiplication won't work on tensor_A and tensor_B because of shape errors\n",
        "# We can fix this by manipulating a tensor by transposing it\n",
        "\n",
        "tensor_B, tensor_B.T"
      ],
      "metadata": {
        "colab": {
          "base_uri": "https://localhost:8080/"
        },
        "id": "CBdCo8vJKS06",
        "outputId": "0c3c59c8-6db0-4323-8495-2de8cbb8ad18"
      },
      "execution_count": 62,
      "outputs": [
        {
          "output_type": "execute_result",
          "data": {
            "text/plain": [
              "(tensor([[ 7, 10],\n",
              "         [ 8, 11],\n",
              "         [ 9, 12]]),\n",
              " tensor([[ 7,  8,  9],\n",
              "         [10, 11, 12]]))"
            ]
          },
          "metadata": {},
          "execution_count": 62
        }
      ]
    },
    {
      "cell_type": "code",
      "source": [
        "tensor_B.T.shape"
      ],
      "metadata": {
        "colab": {
          "base_uri": "https://localhost:8080/"
        },
        "id": "qNmD3RWvLFh5",
        "outputId": "eb54cbdd-840a-4655-c0db-79b212286916"
      },
      "execution_count": 63,
      "outputs": [
        {
          "output_type": "execute_result",
          "data": {
            "text/plain": [
              "torch.Size([2, 3])"
            ]
          },
          "metadata": {},
          "execution_count": 63
        }
      ]
    },
    {
      "cell_type": "code",
      "source": [
        "#with transpose, I can now multiply A and B\n",
        "tensor_A @ tensor_B.T, torch.mm(tensor_A, tensor_B.T).shape"
      ],
      "metadata": {
        "colab": {
          "base_uri": "https://localhost:8080/"
        },
        "id": "gud4jCCuLTtk",
        "outputId": "8226d5fb-d529-4b2b-e68d-1a1a15cd3c4b"
      },
      "execution_count": 64,
      "outputs": [
        {
          "output_type": "execute_result",
          "data": {
            "text/plain": [
              "(tensor([[ 27,  30,  33],\n",
              "         [ 61,  68,  75],\n",
              "         [ 95, 106, 117]]),\n",
              " torch.Size([3, 3]))"
            ]
          },
          "metadata": {},
          "execution_count": 64
        }
      ]
    },
    {
      "cell_type": "code",
      "source": [
        "# Tensor aggregation (min, max, mean sum)\n",
        "\n",
        "#create a tensor\n",
        "x = torch.arange(0, 100, 10)\n",
        "x"
      ],
      "metadata": {
        "id": "aEQf8zeILa7t",
        "colab": {
          "base_uri": "https://localhost:8080/"
        },
        "outputId": "674f427b-cf8e-4d93-abb7-0d67cb7d0431"
      },
      "execution_count": 65,
      "outputs": [
        {
          "output_type": "execute_result",
          "data": {
            "text/plain": [
              "tensor([ 0, 10, 20, 30, 40, 50, 60, 70, 80, 90])"
            ]
          },
          "metadata": {},
          "execution_count": 65
        }
      ]
    },
    {
      "cell_type": "code",
      "source": [
        "# Find the min\n",
        "torch.min(tensor_A @ tensor_B.T), x.min()"
      ],
      "metadata": {
        "colab": {
          "base_uri": "https://localhost:8080/"
        },
        "id": "mtLRLhKxEp8X",
        "outputId": "34c5b536-c8d1-4b02-c262-e7426161a80a"
      },
      "execution_count": 66,
      "outputs": [
        {
          "output_type": "execute_result",
          "data": {
            "text/plain": [
              "(tensor(27), tensor(0))"
            ]
          },
          "metadata": {},
          "execution_count": 66
        }
      ]
    },
    {
      "cell_type": "code",
      "source": [
        "#Find the max\n",
        "torch.max(torch.mm(tensor_A, tensor_B.T)), x.max()"
      ],
      "metadata": {
        "colab": {
          "base_uri": "https://localhost:8080/"
        },
        "id": "sk3Qg2k_E8Vu",
        "outputId": "b91ec8cd-f8ae-4be0-d58c-c17f01a224c3"
      },
      "execution_count": 67,
      "outputs": [
        {
          "output_type": "execute_result",
          "data": {
            "text/plain": [
              "(tensor(117), tensor(90))"
            ]
          },
          "metadata": {},
          "execution_count": 67
        }
      ]
    },
    {
      "cell_type": "code",
      "source": [
        "#Find the mean\n",
        "torch.mean(x.type(torch.float32)), x.type(torch.float32).mean()\n",
        "\n",
        "#torch.mean(x) or x.mean() requires a float32 datatype to work, example of a datatype issue"
      ],
      "metadata": {
        "colab": {
          "base_uri": "https://localhost:8080/"
        },
        "id": "_OJgsw3BFISv",
        "outputId": "45112da9-277a-4d6c-f63f-a6710f559ae1"
      },
      "execution_count": 68,
      "outputs": [
        {
          "output_type": "execute_result",
          "data": {
            "text/plain": [
              "(tensor(45.), tensor(45.))"
            ]
          },
          "metadata": {},
          "execution_count": 68
        }
      ]
    },
    {
      "cell_type": "code",
      "source": [
        "#Find the sum\n",
        "x.sum(), torch.sum(torch.matmul(tensor_A, tensor_B.T))"
      ],
      "metadata": {
        "colab": {
          "base_uri": "https://localhost:8080/"
        },
        "id": "EXT2xXdzFYKX",
        "outputId": "bb95894e-f44d-455e-9ae9-78d88c4b4a73"
      },
      "execution_count": 69,
      "outputs": [
        {
          "output_type": "execute_result",
          "data": {
            "text/plain": [
              "(tensor(450), tensor(612))"
            ]
          },
          "metadata": {},
          "execution_count": 69
        }
      ]
    },
    {
      "cell_type": "code",
      "source": [
        "# Find positional minimum and maximum (what index has the min and what index has the max)\n",
        "x.argmin(), x.argmax()"
      ],
      "metadata": {
        "colab": {
          "base_uri": "https://localhost:8080/"
        },
        "id": "0soG_IZKGAo3",
        "outputId": "f50aac0c-ecce-4f81-9827-4e8ca2b95235"
      },
      "execution_count": 70,
      "outputs": [
        {
          "output_type": "execute_result",
          "data": {
            "text/plain": [
              "(tensor(0), tensor(9))"
            ]
          },
          "metadata": {},
          "execution_count": 70
        }
      ]
    },
    {
      "cell_type": "code",
      "source": [
        "(tensor_A @ tensor_B.T).shape"
      ],
      "metadata": {
        "colab": {
          "base_uri": "https://localhost:8080/"
        },
        "id": "1ebCfy_VKone",
        "outputId": "0488e963-150a-4a70-da5f-709ab80179cb"
      },
      "execution_count": 71,
      "outputs": [
        {
          "output_type": "execute_result",
          "data": {
            "text/plain": [
              "torch.Size([3, 3])"
            ]
          },
          "metadata": {},
          "execution_count": 71
        }
      ]
    },
    {
      "cell_type": "code",
      "source": [
        "# Reshaping, stacking, squeezing, and unsqueezing tensors\n",
        "\n",
        "# Reshaping - reshape an input tensor to a defined shape\n",
        "# View - Return a view of an input tensor of certain shape but keep the same memory as the original tensor\n",
        "# Stacking - combine multiple tensors on top of each other (vstack) or side by side (hstack)\n",
        "# Squeeze - removes all '1' dimensions from a tensor\n",
        "# Unsqueeze - add a '1' dimension to a target tensor\n",
        "# Permute - Return a view of the input with dimension permuted (swapped) in a certain way"
      ],
      "metadata": {
        "id": "1SNh2vqPNYS-"
      },
      "execution_count": 72,
      "outputs": []
    },
    {
      "cell_type": "code",
      "source": [
        "# Let's create a tensor\n",
        "import torch"
      ],
      "metadata": {
        "id": "xRkbgysXOH_z"
      },
      "execution_count": 73,
      "outputs": []
    },
    {
      "cell_type": "code",
      "source": [
        "x = torch.arange(1., 13.)\n",
        "x, x.shape"
      ],
      "metadata": {
        "colab": {
          "base_uri": "https://localhost:8080/"
        },
        "id": "cugcBvuPOPNe",
        "outputId": "165b9b17-205f-4765-9bfb-bbd6668d1a57"
      },
      "execution_count": 74,
      "outputs": [
        {
          "output_type": "execute_result",
          "data": {
            "text/plain": [
              "(tensor([ 1.,  2.,  3.,  4.,  5.,  6.,  7.,  8.,  9., 10., 11., 12.]),\n",
              " torch.Size([12]))"
            ]
          },
          "metadata": {},
          "execution_count": 74
        }
      ]
    },
    {
      "cell_type": "code",
      "source": [
        "# Add an extra dimensino\n",
        "x_reshaped = x.reshape(3, 4)\n",
        "x_reshaped, x_reshaped.shape"
      ],
      "metadata": {
        "colab": {
          "base_uri": "https://localhost:8080/"
        },
        "id": "Ts5t639FOV8f",
        "outputId": "f2253d70-74db-4d3e-a623-cf4bbd05c7fc"
      },
      "execution_count": 75,
      "outputs": [
        {
          "output_type": "execute_result",
          "data": {
            "text/plain": [
              "(tensor([[ 1.,  2.,  3.,  4.],\n",
              "         [ 5.,  6.,  7.,  8.],\n",
              "         [ 9., 10., 11., 12.]]),\n",
              " torch.Size([3, 4]))"
            ]
          },
          "metadata": {},
          "execution_count": 75
        }
      ]
    },
    {
      "cell_type": "code",
      "source": [
        "# Change the view\n",
        "z = x.view(4, 3)\n",
        "z, z.shape"
      ],
      "metadata": {
        "colab": {
          "base_uri": "https://localhost:8080/"
        },
        "id": "x-gCovK4OWJG",
        "outputId": "9059c0b5-dbc5-49c9-a94c-3078ba9d9f58"
      },
      "execution_count": 76,
      "outputs": [
        {
          "output_type": "execute_result",
          "data": {
            "text/plain": [
              "(tensor([[ 1.,  2.,  3.],\n",
              "         [ 4.,  5.,  6.],\n",
              "         [ 7.,  8.,  9.],\n",
              "         [10., 11., 12.]]),\n",
              " torch.Size([4, 3]))"
            ]
          },
          "metadata": {},
          "execution_count": 76
        }
      ]
    },
    {
      "cell_type": "code",
      "source": [
        "x, x.shape"
      ],
      "metadata": {
        "colab": {
          "base_uri": "https://localhost:8080/"
        },
        "id": "D0fgnajEOWcH",
        "outputId": "1eaa1e58-d316-44fa-b095-78dc112b1c8e"
      },
      "execution_count": 77,
      "outputs": [
        {
          "output_type": "execute_result",
          "data": {
            "text/plain": [
              "(tensor([ 1.,  2.,  3.,  4.,  5.,  6.,  7.,  8.,  9., 10., 11., 12.]),\n",
              " torch.Size([12]))"
            ]
          },
          "metadata": {},
          "execution_count": 77
        }
      ]
    },
    {
      "cell_type": "code",
      "source": [
        "# Changing z changes x because a view of a tensor shares the same memory as the original input"
      ],
      "metadata": {
        "id": "PJEDMdQQQBcO"
      },
      "execution_count": 78,
      "outputs": []
    },
    {
      "cell_type": "code",
      "source": [
        "z[0][0] = 5\n",
        "z, x"
      ],
      "metadata": {
        "colab": {
          "base_uri": "https://localhost:8080/"
        },
        "id": "Ht2SYpBxQStY",
        "outputId": "1cd38417-eb49-4cf9-e0b8-d382ec336cbf"
      },
      "execution_count": 79,
      "outputs": [
        {
          "output_type": "execute_result",
          "data": {
            "text/plain": [
              "(tensor([[ 5.,  2.,  3.],\n",
              "         [ 4.,  5.,  6.],\n",
              "         [ 7.,  8.,  9.],\n",
              "         [10., 11., 12.]]),\n",
              " tensor([ 5.,  2.,  3.,  4.,  5.,  6.,  7.,  8.,  9., 10., 11., 12.]))"
            ]
          },
          "metadata": {},
          "execution_count": 79
        }
      ]
    },
    {
      "cell_type": "code",
      "source": [
        "z[:, 0] = 1212\n",
        "z, x"
      ],
      "metadata": {
        "colab": {
          "base_uri": "https://localhost:8080/"
        },
        "id": "KxyCAEj6QbP2",
        "outputId": "7a3f804b-853b-4335-c217-fd90e53c1a66"
      },
      "execution_count": 80,
      "outputs": [
        {
          "output_type": "execute_result",
          "data": {
            "text/plain": [
              "(tensor([[1212.,    2.,    3.],\n",
              "         [1212.,    5.,    6.],\n",
              "         [1212.,    8.,    9.],\n",
              "         [1212.,   11.,   12.]]),\n",
              " tensor([1212.,    2.,    3., 1212.,    5.,    6., 1212.,    8.,    9., 1212.,\n",
              "           11.,   12.]))"
            ]
          },
          "metadata": {},
          "execution_count": 80
        }
      ]
    },
    {
      "cell_type": "code",
      "source": [
        "z.reshape(3, 4)\n",
        "z, z.shape"
      ],
      "metadata": {
        "colab": {
          "base_uri": "https://localhost:8080/"
        },
        "id": "rGT5QL5JQevG",
        "outputId": "34492e1a-fc39-43b0-9c04-4e9bfca790d3"
      },
      "execution_count": 81,
      "outputs": [
        {
          "output_type": "execute_result",
          "data": {
            "text/plain": [
              "(tensor([[1212.,    2.,    3.],\n",
              "         [1212.,    5.,    6.],\n",
              "         [1212.,    8.,    9.],\n",
              "         [1212.,   11.,   12.]]),\n",
              " torch.Size([4, 3]))"
            ]
          },
          "metadata": {},
          "execution_count": 81
        }
      ]
    },
    {
      "cell_type": "code",
      "source": [
        "x.reshape(3, 4)\n",
        "x, x.shape"
      ],
      "metadata": {
        "colab": {
          "base_uri": "https://localhost:8080/"
        },
        "id": "gPMGZJH4QvcR",
        "outputId": "0400bdd3-ccaa-44cf-e933-0ab2fbfdaa8d"
      },
      "execution_count": 82,
      "outputs": [
        {
          "output_type": "execute_result",
          "data": {
            "text/plain": [
              "(tensor([1212.,    2.,    3., 1212.,    5.,    6., 1212.,    8.,    9., 1212.,\n",
              "           11.,   12.]),\n",
              " torch.Size([12]))"
            ]
          },
          "metadata": {},
          "execution_count": 82
        }
      ]
    },
    {
      "cell_type": "code",
      "source": [
        "z[:, 0] = 12\n",
        "z, x"
      ],
      "metadata": {
        "colab": {
          "base_uri": "https://localhost:8080/"
        },
        "id": "G16CIExfQ4Mu",
        "outputId": "afcbe49e-1646-4a53-f864-6ba560dc36f3"
      },
      "execution_count": 83,
      "outputs": [
        {
          "output_type": "execute_result",
          "data": {
            "text/plain": [
              "(tensor([[12.,  2.,  3.],\n",
              "         [12.,  5.,  6.],\n",
              "         [12.,  8.,  9.],\n",
              "         [12., 11., 12.]]),\n",
              " tensor([12.,  2.,  3., 12.,  5.,  6., 12.,  8.,  9., 12., 11., 12.]))"
            ]
          },
          "metadata": {},
          "execution_count": 83
        }
      ]
    },
    {
      "cell_type": "code",
      "source": [
        "x = z.reshape(3, 4)\n",
        "x, x.shape"
      ],
      "metadata": {
        "colab": {
          "base_uri": "https://localhost:8080/"
        },
        "id": "RQFyO0bQRjLe",
        "outputId": "8c1ee08b-9ccd-42ef-ed52-d5e9285ccb00"
      },
      "execution_count": 84,
      "outputs": [
        {
          "output_type": "execute_result",
          "data": {
            "text/plain": [
              "(tensor([[12.,  2.,  3., 12.],\n",
              "         [ 5.,  6., 12.,  8.],\n",
              "         [ 9., 12., 11., 12.]]),\n",
              " torch.Size([3, 4]))"
            ]
          },
          "metadata": {},
          "execution_count": 84
        }
      ]
    },
    {
      "cell_type": "code",
      "source": [
        "z"
      ],
      "metadata": {
        "colab": {
          "base_uri": "https://localhost:8080/"
        },
        "id": "Bz7sOgiVRqpO",
        "outputId": "01adc75f-1d4c-4bfd-c931-bfff4d0d7ea0"
      },
      "execution_count": 85,
      "outputs": [
        {
          "output_type": "execute_result",
          "data": {
            "text/plain": [
              "tensor([[12.,  2.,  3.],\n",
              "        [12.,  5.,  6.],\n",
              "        [12.,  8.,  9.],\n",
              "        [12., 11., 12.]])"
            ]
          },
          "metadata": {},
          "execution_count": 85
        }
      ]
    },
    {
      "cell_type": "code",
      "source": [
        "x = z.view(3, 4)\n",
        "x, x.shape"
      ],
      "metadata": {
        "colab": {
          "base_uri": "https://localhost:8080/"
        },
        "id": "j0lOcawBRrje",
        "outputId": "17b93efa-fe4d-47ff-ddce-6e18dfd3b60e"
      },
      "execution_count": 86,
      "outputs": [
        {
          "output_type": "execute_result",
          "data": {
            "text/plain": [
              "(tensor([[12.,  2.,  3., 12.],\n",
              "         [ 5.,  6., 12.,  8.],\n",
              "         [ 9., 12., 11., 12.]]),\n",
              " torch.Size([3, 4]))"
            ]
          },
          "metadata": {},
          "execution_count": 86
        }
      ]
    },
    {
      "cell_type": "code",
      "source": [
        "z"
      ],
      "metadata": {
        "colab": {
          "base_uri": "https://localhost:8080/"
        },
        "id": "pbN3KjNURt4X",
        "outputId": "3ff7065e-f27a-4a3f-a263-ce8f69a4a767"
      },
      "execution_count": 87,
      "outputs": [
        {
          "output_type": "execute_result",
          "data": {
            "text/plain": [
              "tensor([[12.,  2.,  3.],\n",
              "        [12.,  5.,  6.],\n",
              "        [12.,  8.,  9.],\n",
              "        [12., 11., 12.]])"
            ]
          },
          "metadata": {},
          "execution_count": 87
        }
      ]
    },
    {
      "cell_type": "code",
      "source": [
        "x"
      ],
      "metadata": {
        "colab": {
          "base_uri": "https://localhost:8080/"
        },
        "id": "ReXvHsVFRubv",
        "outputId": "cb8133c7-abbb-44a2-848f-d1051d7aa962"
      },
      "execution_count": 88,
      "outputs": [
        {
          "output_type": "execute_result",
          "data": {
            "text/plain": [
              "tensor([[12.,  2.,  3., 12.],\n",
              "        [ 5.,  6., 12.,  8.],\n",
              "        [ 9., 12., 11., 12.]])"
            ]
          },
          "metadata": {},
          "execution_count": 88
        }
      ]
    },
    {
      "cell_type": "code",
      "source": [
        "z"
      ],
      "metadata": {
        "colab": {
          "base_uri": "https://localhost:8080/"
        },
        "id": "8ZPcHmlKR9wP",
        "outputId": "bd71a90d-d818-4630-c202-0ba444d6dd7b"
      },
      "execution_count": 89,
      "outputs": [
        {
          "output_type": "execute_result",
          "data": {
            "text/plain": [
              "tensor([[12.,  2.,  3.],\n",
              "        [12.,  5.,  6.],\n",
              "        [12.,  8.,  9.],\n",
              "        [12., 11., 12.]])"
            ]
          },
          "metadata": {},
          "execution_count": 89
        }
      ]
    },
    {
      "cell_type": "code",
      "source": [
        "z = x.view(4, 3)\n",
        "z, z.shape"
      ],
      "metadata": {
        "colab": {
          "base_uri": "https://localhost:8080/"
        },
        "id": "LJFQzQIgR-Lo",
        "outputId": "0b779d13-4a71-4c13-8b4a-2038b65f899f"
      },
      "execution_count": 90,
      "outputs": [
        {
          "output_type": "execute_result",
          "data": {
            "text/plain": [
              "(tensor([[12.,  2.,  3.],\n",
              "         [12.,  5.,  6.],\n",
              "         [12.,  8.,  9.],\n",
              "         [12., 11., 12.]]),\n",
              " torch.Size([4, 3]))"
            ]
          },
          "metadata": {},
          "execution_count": 90
        }
      ]
    },
    {
      "cell_type": "code",
      "source": [
        "x"
      ],
      "metadata": {
        "colab": {
          "base_uri": "https://localhost:8080/"
        },
        "id": "AVafhmF0SCXe",
        "outputId": "8b15b453-d237-493c-bc3f-d64fb54d082f"
      },
      "execution_count": 91,
      "outputs": [
        {
          "output_type": "execute_result",
          "data": {
            "text/plain": [
              "tensor([[12.,  2.,  3., 12.],\n",
              "        [ 5.,  6., 12.,  8.],\n",
              "        [ 9., 12., 11., 12.]])"
            ]
          },
          "metadata": {},
          "execution_count": 91
        }
      ]
    },
    {
      "cell_type": "code",
      "source": [
        "x_stacked = torch.stack([x, x, x, x], dim=0)\n",
        "x_stacked"
      ],
      "metadata": {
        "colab": {
          "base_uri": "https://localhost:8080/"
        },
        "id": "zKpnP6_ASC-_",
        "outputId": "6a48b579-cd6f-443a-f235-a74373796de7"
      },
      "execution_count": 93,
      "outputs": [
        {
          "output_type": "execute_result",
          "data": {
            "text/plain": [
              "tensor([[[12.,  2.,  3., 12.],\n",
              "         [ 5.,  6., 12.,  8.],\n",
              "         [ 9., 12., 11., 12.]],\n",
              "\n",
              "        [[12.,  2.,  3., 12.],\n",
              "         [ 5.,  6., 12.,  8.],\n",
              "         [ 9., 12., 11., 12.]],\n",
              "\n",
              "        [[12.,  2.,  3., 12.],\n",
              "         [ 5.,  6., 12.,  8.],\n",
              "         [ 9., 12., 11., 12.]],\n",
              "\n",
              "        [[12.,  2.,  3., 12.],\n",
              "         [ 5.,  6., 12.,  8.],\n",
              "         [ 9., 12., 11., 12.]]])"
            ]
          },
          "metadata": {},
          "execution_count": 93
        }
      ]
    },
    {
      "cell_type": "code",
      "source": [
        "# torch.squeeze() remove all single dimensions from a tensor\n",
        "squeeze = torch.zeros(2, 4, 1, 1)\n",
        "squeeze"
      ],
      "metadata": {
        "id": "xlL0XOKBSRFW",
        "colab": {
          "base_uri": "https://localhost:8080/"
        },
        "outputId": "72a049ec-98d1-4f7a-d1c2-aacfbb33432c"
      },
      "execution_count": 94,
      "outputs": [
        {
          "output_type": "execute_result",
          "data": {
            "text/plain": [
              "tensor([[[[0.]],\n",
              "\n",
              "         [[0.]],\n",
              "\n",
              "         [[0.]],\n",
              "\n",
              "         [[0.]]],\n",
              "\n",
              "\n",
              "        [[[0.]],\n",
              "\n",
              "         [[0.]],\n",
              "\n",
              "         [[0.]],\n",
              "\n",
              "         [[0.]]]])"
            ]
          },
          "metadata": {},
          "execution_count": 94
        }
      ]
    },
    {
      "cell_type": "code",
      "source": [
        "squeeze.shape"
      ],
      "metadata": {
        "colab": {
          "base_uri": "https://localhost:8080/"
        },
        "id": "8TM8WcljTpAT",
        "outputId": "aae5065c-1b9a-4043-c937-b50359498791"
      },
      "execution_count": 95,
      "outputs": [
        {
          "output_type": "execute_result",
          "data": {
            "text/plain": [
              "torch.Size([2, 4, 1, 1])"
            ]
          },
          "metadata": {},
          "execution_count": 95
        }
      ]
    },
    {
      "cell_type": "code",
      "source": [
        "squeeze = squeeze.squeeze()"
      ],
      "metadata": {
        "id": "lngIBSM9Ts6E"
      },
      "execution_count": 98,
      "outputs": []
    },
    {
      "cell_type": "code",
      "source": [
        "squeeze.shape"
      ],
      "metadata": {
        "colab": {
          "base_uri": "https://localhost:8080/"
        },
        "id": "oZRgYsYcTuNL",
        "outputId": "e8d4c58a-3d81-4405-b8d3-119b77d7d30d"
      },
      "execution_count": 99,
      "outputs": [
        {
          "output_type": "execute_result",
          "data": {
            "text/plain": [
              "torch.Size([2, 4])"
            ]
          },
          "metadata": {},
          "execution_count": 99
        }
      ]
    },
    {
      "cell_type": "code",
      "source": [
        "x.shape"
      ],
      "metadata": {
        "colab": {
          "base_uri": "https://localhost:8080/"
        },
        "id": "xkJZiUm1TwHT",
        "outputId": "7d9fba65-1ad0-4354-8cc9-497da6878307"
      },
      "execution_count": 100,
      "outputs": [
        {
          "output_type": "execute_result",
          "data": {
            "text/plain": [
              "torch.Size([3, 4])"
            ]
          },
          "metadata": {},
          "execution_count": 100
        }
      ]
    },
    {
      "cell_type": "code",
      "source": [
        "x_stacked"
      ],
      "metadata": {
        "colab": {
          "base_uri": "https://localhost:8080/"
        },
        "id": "Um3kToz9T3Nr",
        "outputId": "c11894d5-1e0e-4cda-e397-cafd63d20c94"
      },
      "execution_count": 101,
      "outputs": [
        {
          "output_type": "execute_result",
          "data": {
            "text/plain": [
              "tensor([[[12.,  2.,  3., 12.],\n",
              "         [ 5.,  6., 12.,  8.],\n",
              "         [ 9., 12., 11., 12.]],\n",
              "\n",
              "        [[12.,  2.,  3., 12.],\n",
              "         [ 5.,  6., 12.,  8.],\n",
              "         [ 9., 12., 11., 12.]],\n",
              "\n",
              "        [[12.,  2.,  3., 12.],\n",
              "         [ 5.,  6., 12.,  8.],\n",
              "         [ 9., 12., 11., 12.]],\n",
              "\n",
              "        [[12.,  2.,  3., 12.],\n",
              "         [ 5.,  6., 12.,  8.],\n",
              "         [ 9., 12., 11., 12.]]])"
            ]
          },
          "metadata": {},
          "execution_count": 101
        }
      ]
    },
    {
      "cell_type": "code",
      "source": [
        "x_stacked.shape"
      ],
      "metadata": {
        "colab": {
          "base_uri": "https://localhost:8080/"
        },
        "id": "prK6Qa1OT7G6",
        "outputId": "52c51890-2ebb-46fe-fb1a-121bfcd57193"
      },
      "execution_count": 102,
      "outputs": [
        {
          "output_type": "execute_result",
          "data": {
            "text/plain": [
              "torch.Size([4, 3, 4])"
            ]
          },
          "metadata": {},
          "execution_count": 102
        }
      ]
    },
    {
      "cell_type": "code",
      "source": [
        "x.shape"
      ],
      "metadata": {
        "colab": {
          "base_uri": "https://localhost:8080/"
        },
        "id": "DLnUhtqLT8oz",
        "outputId": "e1eeddd4-6ee9-4012-a6e3-522bd5c838d9"
      },
      "execution_count": 103,
      "outputs": [
        {
          "output_type": "execute_result",
          "data": {
            "text/plain": [
              "torch.Size([3, 4])"
            ]
          },
          "metadata": {},
          "execution_count": 103
        }
      ]
    },
    {
      "cell_type": "code",
      "source": [
        "x.reshape(1, 12)"
      ],
      "metadata": {
        "colab": {
          "base_uri": "https://localhost:8080/"
        },
        "id": "m8FZH9n2UAVD",
        "outputId": "53339f4f-c388-45fe-c0a8-a27fa717ad06"
      },
      "execution_count": 104,
      "outputs": [
        {
          "output_type": "execute_result",
          "data": {
            "text/plain": [
              "tensor([[12.,  2.,  3., 12.,  5.,  6., 12.,  8.,  9., 12., 11., 12.]])"
            ]
          },
          "metadata": {},
          "execution_count": 104
        }
      ]
    },
    {
      "cell_type": "code",
      "source": [
        "x.shape"
      ],
      "metadata": {
        "colab": {
          "base_uri": "https://localhost:8080/"
        },
        "id": "WHuZd7A5UEvK",
        "outputId": "01eaee30-4b17-4ffd-e70d-875c98824482"
      },
      "execution_count": 105,
      "outputs": [
        {
          "output_type": "execute_result",
          "data": {
            "text/plain": [
              "torch.Size([3, 4])"
            ]
          },
          "metadata": {},
          "execution_count": 105
        }
      ]
    },
    {
      "cell_type": "code",
      "source": [
        "x = x.reshape(1, 12)"
      ],
      "metadata": {
        "id": "eID6V9ORUGdK"
      },
      "execution_count": 106,
      "outputs": []
    },
    {
      "cell_type": "code",
      "source": [
        "x.shape"
      ],
      "metadata": {
        "colab": {
          "base_uri": "https://localhost:8080/"
        },
        "id": "H6HHNeT1UIAT",
        "outputId": "97669c8d-08a1-4b0a-aa60-3e1b694a0846"
      },
      "execution_count": 107,
      "outputs": [
        {
          "output_type": "execute_result",
          "data": {
            "text/plain": [
              "torch.Size([1, 12])"
            ]
          },
          "metadata": {},
          "execution_count": 107
        }
      ]
    },
    {
      "cell_type": "code",
      "source": [
        "x\n",
        "x = x.squeeze()\n",
        "x"
      ],
      "metadata": {
        "colab": {
          "base_uri": "https://localhost:8080/"
        },
        "id": "i3JqEt31UI5b",
        "outputId": "dfc427e5-493e-4b24-83e5-f9fb546790d0"
      },
      "execution_count": 108,
      "outputs": [
        {
          "output_type": "execute_result",
          "data": {
            "text/plain": [
              "tensor([12.,  2.,  3., 12.,  5.,  6., 12.,  8.,  9., 12., 11., 12.])"
            ]
          },
          "metadata": {},
          "execution_count": 108
        }
      ]
    },
    {
      "cell_type": "code",
      "source": [
        "x.shape"
      ],
      "metadata": {
        "colab": {
          "base_uri": "https://localhost:8080/"
        },
        "id": "eDq4cNB_UNkj",
        "outputId": "e3ac721f-f5e0-4b49-81b1-919501c6de9f"
      },
      "execution_count": 109,
      "outputs": [
        {
          "output_type": "execute_result",
          "data": {
            "text/plain": [
              "torch.Size([12])"
            ]
          },
          "metadata": {},
          "execution_count": 109
        }
      ]
    },
    {
      "cell_type": "code",
      "source": [
        "# torch.unsqueeze() - adds a single dimension to a target tensor at a specific dim\n",
        "x_unsqueezed = x.unsqueeze(dim=0)\n",
        "x_unsqueezed"
      ],
      "metadata": {
        "colab": {
          "base_uri": "https://localhost:8080/"
        },
        "id": "73vQmagbUQOz",
        "outputId": "fcf58287-ff87-4f33-e762-fc017901c101"
      },
      "execution_count": 110,
      "outputs": [
        {
          "output_type": "execute_result",
          "data": {
            "text/plain": [
              "tensor([[12.,  2.,  3., 12.,  5.,  6., 12.,  8.,  9., 12., 11., 12.]])"
            ]
          },
          "metadata": {},
          "execution_count": 110
        }
      ]
    },
    {
      "cell_type": "code",
      "source": [
        "x = x.squeeze()\n",
        "x = x.unsqueeze(dim=1)"
      ],
      "metadata": {
        "id": "83t62Y9NVPCK"
      },
      "execution_count": 113,
      "outputs": []
    },
    {
      "cell_type": "code",
      "source": [
        "x.shape"
      ],
      "metadata": {
        "colab": {
          "base_uri": "https://localhost:8080/"
        },
        "id": "XPm70brpVUgs",
        "outputId": "ba2aa51f-ecfa-44fe-c6b0-d90b0c098576"
      },
      "execution_count": 114,
      "outputs": [
        {
          "output_type": "execute_result",
          "data": {
            "text/plain": [
              "torch.Size([12, 1])"
            ]
          },
          "metadata": {},
          "execution_count": 114
        }
      ]
    },
    {
      "cell_type": "code",
      "source": [
        "# torch.permute - rearranges the dimensions of a target tensor in a specified order\n",
        "y = torch.rand(size=(224, 224, 3))\n",
        "y.shape"
      ],
      "metadata": {
        "colab": {
          "base_uri": "https://localhost:8080/"
        },
        "id": "LkJ5YZ7cVXfS",
        "outputId": "3557d03a-1234-46ce-9775-a13eb506b9c8"
      },
      "execution_count": 122,
      "outputs": [
        {
          "output_type": "execute_result",
          "data": {
            "text/plain": [
              "torch.Size([224, 224, 3])"
            ]
          },
          "metadata": {},
          "execution_count": 122
        }
      ]
    },
    {
      "cell_type": "code",
      "source": [
        "x = y.permute(2, 0, 1) # shifts 2->0 0->1 1->1\n",
        "y.shape"
      ],
      "metadata": {
        "colab": {
          "base_uri": "https://localhost:8080/"
        },
        "id": "azWUW-rfV-w7",
        "outputId": "37191782-34be-4683-b9ba-699250081df1"
      },
      "execution_count": 123,
      "outputs": [
        {
          "output_type": "execute_result",
          "data": {
            "text/plain": [
              "torch.Size([224, 224, 3])"
            ]
          },
          "metadata": {},
          "execution_count": 123
        }
      ]
    },
    {
      "cell_type": "code",
      "source": [
        "x.shape"
      ],
      "metadata": {
        "colab": {
          "base_uri": "https://localhost:8080/"
        },
        "id": "TxESXd1mWEXj",
        "outputId": "f323b661-4af8-4d82-faea-eeabcbbc57b7"
      },
      "execution_count": 124,
      "outputs": [
        {
          "output_type": "execute_result",
          "data": {
            "text/plain": [
              "torch.Size([3, 224, 224])"
            ]
          },
          "metadata": {},
          "execution_count": 124
        }
      ]
    },
    {
      "cell_type": "code",
      "source": [
        "y[0, 0, 0] = 1212\n",
        "y[0, 0, 0], x[0, 0, 0]"
      ],
      "metadata": {
        "colab": {
          "base_uri": "https://localhost:8080/"
        },
        "id": "fp7W4bX3WGi0",
        "outputId": "b605b7d7-e075-4903-d837-8a2958a3ca50"
      },
      "execution_count": 125,
      "outputs": [
        {
          "output_type": "execute_result",
          "data": {
            "text/plain": [
              "(tensor(1212.), tensor(1212.))"
            ]
          },
          "metadata": {},
          "execution_count": 125
        }
      ]
    },
    {
      "cell_type": "code",
      "source": [],
      "metadata": {
        "id": "nZdmF_FlXK7T"
      },
      "execution_count": null,
      "outputs": []
    }
  ]
}