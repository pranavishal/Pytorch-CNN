{
  "nbformat": 4,
  "nbformat_minor": 0,
  "metadata": {
    "colab": {
      "provenance": [],
      "authorship_tag": "ABX9TyP43FYh2zyNxjPiKNRE2gZH",
      "include_colab_link": true
    },
    "kernelspec": {
      "name": "python3",
      "display_name": "Python 3"
    },
    "language_info": {
      "name": "python"
    }
  },
  "cells": [
    {
      "cell_type": "markdown",
      "metadata": {
        "id": "view-in-github",
        "colab_type": "text"
      },
      "source": [
        "<a href=\"https://colab.research.google.com/github/pranavishal/Pytorch-CNN/blob/main/pytorch_workflow.ipynb\" target=\"_parent\"><img src=\"https://colab.research.google.com/assets/colab-badge.svg\" alt=\"Open In Colab\"/></a>"
      ]
    },
    {
      "cell_type": "code",
      "execution_count": 1,
      "metadata": {
        "id": "tf_oKhtD9QE5",
        "colab": {
          "base_uri": "https://localhost:8080/"
        },
        "outputId": "c64c0d9b-801b-41d8-deeb-04a18470b6b2"
      },
      "outputs": [
        {
          "output_type": "execute_result",
          "data": {
            "text/plain": [
              "{1: 'data (prepare and load)',\n",
              " 2: 'Build model',\n",
              " 3: 'fitting the model to the data (training)',\n",
              " 4: 'making predicitions and evaluating a model (inference)',\n",
              " 5: 'saving and loading a model',\n",
              " 6: 'Put it all together'}"
            ]
          },
          "metadata": {},
          "execution_count": 1
        }
      ],
      "source": [
        "# Pytorch Workflow, end-to-end workflow\n",
        "\n",
        "what_were_covering = {1: \"data (prepare and load)\",\n",
        "                      2: \"Build model\",\n",
        "                      3: \"fitting the model to the data (training)\",\n",
        "                      4: \"making predicitions and evaluating a model (inference)\",\n",
        "                      5: \"saving and loading a model\",\n",
        "                      6: \"Put it all together\"}\n",
        "what_were_covering"
      ]
    },
    {
      "cell_type": "code",
      "source": [
        "import torch\n",
        "from torch import nn #nn contains all of PyTorch's building blocks for neural networks\n",
        "import matplotlib.pyplot as plt\n",
        "\n",
        "# Check PyTorch version\n",
        "torch.__version__"
      ],
      "metadata": {
        "colab": {
          "base_uri": "https://localhost:8080/",
          "height": 35
        },
        "id": "yqjkNgsYVGYl",
        "outputId": "596cb1c3-5acb-4212-dabe-54dd3cbc9f09"
      },
      "execution_count": 2,
      "outputs": [
        {
          "output_type": "execute_result",
          "data": {
            "text/plain": [
              "'2.5.0+cu121'"
            ],
            "application/vnd.google.colaboratory.intrinsic+json": {
              "type": "string"
            }
          },
          "metadata": {},
          "execution_count": 2
        }
      ]
    },
    {
      "cell_type": "markdown",
      "source": [
        "##1. Data (Preparing and loading)\n",
        "\n",
        "Data can be almost anything in ML\n",
        "\n",
        "- Excel Spreadsheet\n",
        "- Images of any kind\n",
        "- Videos\n",
        "- Audios\n",
        "- DNA\n",
        "- Text\n",
        "\n",
        "Machine Learning is a game of two parts:\n",
        "1. Get data into a numerical representation.\n",
        "2. Build a model to learn patterns in that numerical representation\n",
        "\n",
        "To showcase this, let's create some *known* data using the linear regression formula\n",
        "\n",
        "Use Linear Regression to make a straight line with *known* **parameters**"
      ],
      "metadata": {
        "id": "_Nh5SVJRVyL-"
      }
    },
    {
      "cell_type": "code",
      "source": [
        "# Create *known* parameters\n",
        "weight = 0.7 # (b in y = bx + a) slope\n",
        "bias = 0.3 # a in y = bx + a, intercept\n",
        "\n",
        "# Create\n",
        "start = 0\n",
        "end = 1\n",
        "step = 0.02\n",
        "X = torch.arange(start, end, step).unsqueeze(dim=1)\n",
        "y = weight * X + bias\n",
        "\n",
        "X[:10], y[:10]"
      ],
      "metadata": {
        "colab": {
          "base_uri": "https://localhost:8080/"
        },
        "id": "YV9u9r5RaPK1",
        "outputId": "2946651e-c2f4-42ab-c309-38aaabf6bfc5"
      },
      "execution_count": 6,
      "outputs": [
        {
          "output_type": "execute_result",
          "data": {
            "text/plain": [
              "(tensor([[0.0000],\n",
              "         [0.0200],\n",
              "         [0.0400],\n",
              "         [0.0600],\n",
              "         [0.0800],\n",
              "         [0.1000],\n",
              "         [0.1200],\n",
              "         [0.1400],\n",
              "         [0.1600],\n",
              "         [0.1800]]),\n",
              " tensor([[0.3000],\n",
              "         [0.3140],\n",
              "         [0.3280],\n",
              "         [0.3420],\n",
              "         [0.3560],\n",
              "         [0.3700],\n",
              "         [0.3840],\n",
              "         [0.3980],\n",
              "         [0.4120],\n",
              "         [0.4260]]))"
            ]
          },
          "metadata": {},
          "execution_count": 6
        }
      ]
    },
    {
      "cell_type": "code",
      "source": [
        "len(X), len(y)"
      ],
      "metadata": {
        "colab": {
          "base_uri": "https://localhost:8080/"
        },
        "id": "xyCWVjzLbVHl",
        "outputId": "83cd58a2-80d2-447d-b116-4896852dff19"
      },
      "execution_count": 7,
      "outputs": [
        {
          "output_type": "execute_result",
          "data": {
            "text/plain": [
              "(50, 50)"
            ]
          },
          "metadata": {},
          "execution_count": 7
        }
      ]
    },
    {
      "cell_type": "markdown",
      "source": [
        "Give both X and y to a model so it can learn the relationship between the 2. In this case, we know the relationship because it is an algorithm (y = bx + a)\n",
        "\n",
        "However, you won't always know this relationship. You may just have 2 data sets X and Y. This is where Machine Learning comes into play: to establish that relationship\n"
      ],
      "metadata": {
        "id": "NAByr-lybvIm"
      }
    },
    {
      "cell_type": "markdown",
      "source": [
        "### Splitting data into training and test sets (one of the most important concepts in machine learning)\n",
        "\n",
        "\n",
        "Lets create a training and test set for our data"
      ],
      "metadata": {
        "id": "UeoAatPycMVu"
      }
    },
    {
      "cell_type": "code",
      "source": [
        "# Create a train/test split\n",
        "train_split = int(0.8 * len(X)) # 80% of data is the training data\n",
        "train_split"
      ],
      "metadata": {
        "colab": {
          "base_uri": "https://localhost:8080/"
        },
        "id": "Fbo6DyzjxOEO",
        "outputId": "bb79485a-615b-4a26-e05c-1441dc9e871c"
      },
      "execution_count": 10,
      "outputs": [
        {
          "output_type": "execute_result",
          "data": {
            "text/plain": [
              "40"
            ]
          },
          "metadata": {},
          "execution_count": 10
        }
      ]
    },
    {
      "cell_type": "code",
      "source": [
        "X_train, y_train = X[:train_split], y[:train_split]\n",
        "X_test, y_test = X[train_split:], y[train_split:]\n",
        "len(X_train), len(y_train), len(X_test), len(y_test)"
      ],
      "metadata": {
        "colab": {
          "base_uri": "https://localhost:8080/"
        },
        "id": "RIBi-GgXxQWk",
        "outputId": "0e6e7258-4852-464a-c0c9-454ee9e5011e"
      },
      "execution_count": 11,
      "outputs": [
        {
          "output_type": "execute_result",
          "data": {
            "text/plain": [
              "(40, 40, 10, 10)"
            ]
          },
          "metadata": {},
          "execution_count": 11
        }
      ]
    },
    {
      "cell_type": "code",
      "source": [],
      "metadata": {
        "id": "MEYEfcD00u6w"
      },
      "execution_count": null,
      "outputs": []
    }
  ]
}